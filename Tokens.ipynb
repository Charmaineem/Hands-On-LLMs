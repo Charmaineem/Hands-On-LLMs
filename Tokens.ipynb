{
  "nbformat": 4,
  "nbformat_minor": 0,
  "metadata": {
    "colab": {
      "provenance": [],
      "gpuType": "T4"
    },
    "kernelspec": {
      "name": "python3",
      "display_name": "Python 3"
    },
    "language_info": {
      "name": "python"
    },
    "accelerator": "GPU",
    "widgets": {
      "application/vnd.jupyter.widget-state+json": {
        "e5ea315f3c564d6f8b23081c5cab7239": {
          "model_module": "@jupyter-widgets/controls",
          "model_name": "HBoxModel",
          "model_module_version": "1.5.0",
          "state": {
            "_dom_classes": [],
            "_model_module": "@jupyter-widgets/controls",
            "_model_module_version": "1.5.0",
            "_model_name": "HBoxModel",
            "_view_count": null,
            "_view_module": "@jupyter-widgets/controls",
            "_view_module_version": "1.5.0",
            "_view_name": "HBoxView",
            "box_style": "",
            "children": [
              "IPY_MODEL_ffcb77511b064ae4919e86ee2a790c09",
              "IPY_MODEL_b0c419471eef4f01a11bbeea2e39305a",
              "IPY_MODEL_2d530c2666e54ea59938d987cc3ee1a8"
            ],
            "layout": "IPY_MODEL_8df66f3ebbdc4969935678d24b3bc324"
          }
        },
        "ffcb77511b064ae4919e86ee2a790c09": {
          "model_module": "@jupyter-widgets/controls",
          "model_name": "HTMLModel",
          "model_module_version": "1.5.0",
          "state": {
            "_dom_classes": [],
            "_model_module": "@jupyter-widgets/controls",
            "_model_module_version": "1.5.0",
            "_model_name": "HTMLModel",
            "_view_count": null,
            "_view_module": "@jupyter-widgets/controls",
            "_view_module_version": "1.5.0",
            "_view_name": "HTMLView",
            "description": "",
            "description_tooltip": null,
            "layout": "IPY_MODEL_a5ff432ba64e46ac8419461007437f82",
            "placeholder": "​",
            "style": "IPY_MODEL_5f194a59fefc4edcae8ab4ba222c75f1",
            "value": "Loading checkpoint shards: 100%"
          }
        },
        "b0c419471eef4f01a11bbeea2e39305a": {
          "model_module": "@jupyter-widgets/controls",
          "model_name": "FloatProgressModel",
          "model_module_version": "1.5.0",
          "state": {
            "_dom_classes": [],
            "_model_module": "@jupyter-widgets/controls",
            "_model_module_version": "1.5.0",
            "_model_name": "FloatProgressModel",
            "_view_count": null,
            "_view_module": "@jupyter-widgets/controls",
            "_view_module_version": "1.5.0",
            "_view_name": "ProgressView",
            "bar_style": "success",
            "description": "",
            "description_tooltip": null,
            "layout": "IPY_MODEL_40660d2a06af4aa9a6dfd5c529bc29b9",
            "max": 2,
            "min": 0,
            "orientation": "horizontal",
            "style": "IPY_MODEL_4e0f682715014ffc8c8a403dada1a41f",
            "value": 2
          }
        },
        "2d530c2666e54ea59938d987cc3ee1a8": {
          "model_module": "@jupyter-widgets/controls",
          "model_name": "HTMLModel",
          "model_module_version": "1.5.0",
          "state": {
            "_dom_classes": [],
            "_model_module": "@jupyter-widgets/controls",
            "_model_module_version": "1.5.0",
            "_model_name": "HTMLModel",
            "_view_count": null,
            "_view_module": "@jupyter-widgets/controls",
            "_view_module_version": "1.5.0",
            "_view_name": "HTMLView",
            "description": "",
            "description_tooltip": null,
            "layout": "IPY_MODEL_38f77ff40da142e597a2b06b8b49a8a1",
            "placeholder": "​",
            "style": "IPY_MODEL_a97d4146747d44dda2965f067deac212",
            "value": " 2/2 [00:27&lt;00:00, 13.32s/it]"
          }
        },
        "8df66f3ebbdc4969935678d24b3bc324": {
          "model_module": "@jupyter-widgets/base",
          "model_name": "LayoutModel",
          "model_module_version": "1.2.0",
          "state": {
            "_model_module": "@jupyter-widgets/base",
            "_model_module_version": "1.2.0",
            "_model_name": "LayoutModel",
            "_view_count": null,
            "_view_module": "@jupyter-widgets/base",
            "_view_module_version": "1.2.0",
            "_view_name": "LayoutView",
            "align_content": null,
            "align_items": null,
            "align_self": null,
            "border": null,
            "bottom": null,
            "display": null,
            "flex": null,
            "flex_flow": null,
            "grid_area": null,
            "grid_auto_columns": null,
            "grid_auto_flow": null,
            "grid_auto_rows": null,
            "grid_column": null,
            "grid_gap": null,
            "grid_row": null,
            "grid_template_areas": null,
            "grid_template_columns": null,
            "grid_template_rows": null,
            "height": null,
            "justify_content": null,
            "justify_items": null,
            "left": null,
            "margin": null,
            "max_height": null,
            "max_width": null,
            "min_height": null,
            "min_width": null,
            "object_fit": null,
            "object_position": null,
            "order": null,
            "overflow": null,
            "overflow_x": null,
            "overflow_y": null,
            "padding": null,
            "right": null,
            "top": null,
            "visibility": null,
            "width": null
          }
        },
        "a5ff432ba64e46ac8419461007437f82": {
          "model_module": "@jupyter-widgets/base",
          "model_name": "LayoutModel",
          "model_module_version": "1.2.0",
          "state": {
            "_model_module": "@jupyter-widgets/base",
            "_model_module_version": "1.2.0",
            "_model_name": "LayoutModel",
            "_view_count": null,
            "_view_module": "@jupyter-widgets/base",
            "_view_module_version": "1.2.0",
            "_view_name": "LayoutView",
            "align_content": null,
            "align_items": null,
            "align_self": null,
            "border": null,
            "bottom": null,
            "display": null,
            "flex": null,
            "flex_flow": null,
            "grid_area": null,
            "grid_auto_columns": null,
            "grid_auto_flow": null,
            "grid_auto_rows": null,
            "grid_column": null,
            "grid_gap": null,
            "grid_row": null,
            "grid_template_areas": null,
            "grid_template_columns": null,
            "grid_template_rows": null,
            "height": null,
            "justify_content": null,
            "justify_items": null,
            "left": null,
            "margin": null,
            "max_height": null,
            "max_width": null,
            "min_height": null,
            "min_width": null,
            "object_fit": null,
            "object_position": null,
            "order": null,
            "overflow": null,
            "overflow_x": null,
            "overflow_y": null,
            "padding": null,
            "right": null,
            "top": null,
            "visibility": null,
            "width": null
          }
        },
        "5f194a59fefc4edcae8ab4ba222c75f1": {
          "model_module": "@jupyter-widgets/controls",
          "model_name": "DescriptionStyleModel",
          "model_module_version": "1.5.0",
          "state": {
            "_model_module": "@jupyter-widgets/controls",
            "_model_module_version": "1.5.0",
            "_model_name": "DescriptionStyleModel",
            "_view_count": null,
            "_view_module": "@jupyter-widgets/base",
            "_view_module_version": "1.2.0",
            "_view_name": "StyleView",
            "description_width": ""
          }
        },
        "40660d2a06af4aa9a6dfd5c529bc29b9": {
          "model_module": "@jupyter-widgets/base",
          "model_name": "LayoutModel",
          "model_module_version": "1.2.0",
          "state": {
            "_model_module": "@jupyter-widgets/base",
            "_model_module_version": "1.2.0",
            "_model_name": "LayoutModel",
            "_view_count": null,
            "_view_module": "@jupyter-widgets/base",
            "_view_module_version": "1.2.0",
            "_view_name": "LayoutView",
            "align_content": null,
            "align_items": null,
            "align_self": null,
            "border": null,
            "bottom": null,
            "display": null,
            "flex": null,
            "flex_flow": null,
            "grid_area": null,
            "grid_auto_columns": null,
            "grid_auto_flow": null,
            "grid_auto_rows": null,
            "grid_column": null,
            "grid_gap": null,
            "grid_row": null,
            "grid_template_areas": null,
            "grid_template_columns": null,
            "grid_template_rows": null,
            "height": null,
            "justify_content": null,
            "justify_items": null,
            "left": null,
            "margin": null,
            "max_height": null,
            "max_width": null,
            "min_height": null,
            "min_width": null,
            "object_fit": null,
            "object_position": null,
            "order": null,
            "overflow": null,
            "overflow_x": null,
            "overflow_y": null,
            "padding": null,
            "right": null,
            "top": null,
            "visibility": null,
            "width": null
          }
        },
        "4e0f682715014ffc8c8a403dada1a41f": {
          "model_module": "@jupyter-widgets/controls",
          "model_name": "ProgressStyleModel",
          "model_module_version": "1.5.0",
          "state": {
            "_model_module": "@jupyter-widgets/controls",
            "_model_module_version": "1.5.0",
            "_model_name": "ProgressStyleModel",
            "_view_count": null,
            "_view_module": "@jupyter-widgets/base",
            "_view_module_version": "1.2.0",
            "_view_name": "StyleView",
            "bar_color": null,
            "description_width": ""
          }
        },
        "38f77ff40da142e597a2b06b8b49a8a1": {
          "model_module": "@jupyter-widgets/base",
          "model_name": "LayoutModel",
          "model_module_version": "1.2.0",
          "state": {
            "_model_module": "@jupyter-widgets/base",
            "_model_module_version": "1.2.0",
            "_model_name": "LayoutModel",
            "_view_count": null,
            "_view_module": "@jupyter-widgets/base",
            "_view_module_version": "1.2.0",
            "_view_name": "LayoutView",
            "align_content": null,
            "align_items": null,
            "align_self": null,
            "border": null,
            "bottom": null,
            "display": null,
            "flex": null,
            "flex_flow": null,
            "grid_area": null,
            "grid_auto_columns": null,
            "grid_auto_flow": null,
            "grid_auto_rows": null,
            "grid_column": null,
            "grid_gap": null,
            "grid_row": null,
            "grid_template_areas": null,
            "grid_template_columns": null,
            "grid_template_rows": null,
            "height": null,
            "justify_content": null,
            "justify_items": null,
            "left": null,
            "margin": null,
            "max_height": null,
            "max_width": null,
            "min_height": null,
            "min_width": null,
            "object_fit": null,
            "object_position": null,
            "order": null,
            "overflow": null,
            "overflow_x": null,
            "overflow_y": null,
            "padding": null,
            "right": null,
            "top": null,
            "visibility": null,
            "width": null
          }
        },
        "a97d4146747d44dda2965f067deac212": {
          "model_module": "@jupyter-widgets/controls",
          "model_name": "DescriptionStyleModel",
          "model_module_version": "1.5.0",
          "state": {
            "_model_module": "@jupyter-widgets/controls",
            "_model_module_version": "1.5.0",
            "_model_name": "DescriptionStyleModel",
            "_view_count": null,
            "_view_module": "@jupyter-widgets/base",
            "_view_module_version": "1.2.0",
            "_view_name": "StyleView",
            "description_width": ""
          }
        }
      }
    }
  },
  "cells": [
    {
      "cell_type": "markdown",
      "source": [
        "# Tokens\n",
        "\n",
        "Models interact with input as small chunks called tokens which can be words, subwords or characters. These are the input and output of the models. In the pipeline, tokenization happens before the input is processed by the model."
      ],
      "metadata": {
        "id": "YzrsQgVD5u8-"
      }
    },
    {
      "cell_type": "markdown",
      "source": [
        "## Code Example"
      ],
      "metadata": {
        "id": "cV4cElfaJfD-"
      }
    },
    {
      "cell_type": "code",
      "execution_count": 2,
      "metadata": {
        "id": "_KhqySsm5mxV"
      },
      "outputs": [],
      "source": [
        "from transformers import AutoModelForCausalLM, AutoTokenizer"
      ]
    },
    {
      "cell_type": "code",
      "source": [
        "model = AutoModelForCausalLM.from_pretrained(\n",
        "    'microsoft/Phi-3-mini-4k-instruct',\n",
        "    device_map='cuda',\n",
        "    torch_dtype='auto',\n",
        ")\n",
        "\n",
        "tokenizer = AutoTokenizer.from_pretrained('microsoft/Phi-3-mini-4k-instruct')"
      ],
      "metadata": {
        "colab": {
          "base_uri": "https://localhost:8080/",
          "height": 49,
          "referenced_widgets": [
            "e5ea315f3c564d6f8b23081c5cab7239",
            "ffcb77511b064ae4919e86ee2a790c09",
            "b0c419471eef4f01a11bbeea2e39305a",
            "2d530c2666e54ea59938d987cc3ee1a8",
            "8df66f3ebbdc4969935678d24b3bc324",
            "a5ff432ba64e46ac8419461007437f82",
            "5f194a59fefc4edcae8ab4ba222c75f1",
            "40660d2a06af4aa9a6dfd5c529bc29b9",
            "4e0f682715014ffc8c8a403dada1a41f",
            "38f77ff40da142e597a2b06b8b49a8a1",
            "a97d4146747d44dda2965f067deac212"
          ]
        },
        "id": "D1WPB0mJ7OD8",
        "outputId": "97e0a23c-d1e4-4f3f-9b20-6cbb13d8541b"
      },
      "execution_count": 10,
      "outputs": [
        {
          "output_type": "display_data",
          "data": {
            "text/plain": [
              "Loading checkpoint shards:   0%|          | 0/2 [00:00<?, ?it/s]"
            ],
            "application/vnd.jupyter.widget-view+json": {
              "version_major": 2,
              "version_minor": 0,
              "model_id": "e5ea315f3c564d6f8b23081c5cab7239"
            }
          },
          "metadata": {}
        }
      ]
    },
    {
      "cell_type": "code",
      "source": [
        "prompt = 'Write a short message telling them that I learn about tokenization today. Explain what it is. <|assistant|>'"
      ],
      "metadata": {
        "id": "v1UQehSQ73th"
      },
      "execution_count": 11,
      "outputs": []
    },
    {
      "cell_type": "code",
      "source": [
        "input_ids = tokenizer(prompt, return_tensors=\"pt\").input_ids.to('cuda')\n",
        "input_ids"
      ],
      "metadata": {
        "colab": {
          "base_uri": "https://localhost:8080/"
        },
        "id": "F77-xL-J8PDG",
        "outputId": "eeafe892-7da8-44f3-a04e-759f020d5ccc"
      },
      "execution_count": 12,
      "outputs": [
        {
          "output_type": "execute_result",
          "data": {
            "text/plain": [
              "tensor([[14350,   263,  3273,  2643, 14509,   963,   393,   306,  5110,  1048,\n",
              "          5993,  2133,  9826, 29889, 12027,  7420,   825,   372,   338, 29889,\n",
              "         29871, 32001]], device='cuda:0')"
            ]
          },
          "metadata": {},
          "execution_count": 12
        }
      ]
    },
    {
      "cell_type": "markdown",
      "source": [
        "The output tokens have been converted to their numerical representation and returned as a PyTorch tensor. These are used as the input of the model rather than the actual prompt"
      ],
      "metadata": {
        "id": "fIjKTo2aK7MG"
      }
    },
    {
      "cell_type": "code",
      "source": [
        "generation_output = model.generate(\n",
        "    input_ids=input_ids,\n",
        "    max_new_tokens=20\n",
        ")\n",
        "generation_output"
      ],
      "metadata": {
        "colab": {
          "base_uri": "https://localhost:8080/"
        },
        "id": "kNyeSQwh8e67",
        "outputId": "fc005962-8888-4d96-eec1-9b40c8176779"
      },
      "execution_count": 14,
      "outputs": [
        {
          "output_type": "execute_result",
          "data": {
            "text/plain": [
              "tensor([[14350,   263,  3273,  2643, 14509,   963,   393,   306,  5110,  1048,\n",
              "          5993,  2133,  9826, 29889, 12027,  7420,   825,   372,   338, 29889,\n",
              "         29871, 32001, 18637,   727, 29991,   306,   925, 10972,  1048,  5993,\n",
              "          2133,  9826, 29889,   739, 29915, 29879,   263, 21028,   262,  1218,\n",
              "          1889,  1304]], device='cuda:0')"
            ]
          },
          "metadata": {},
          "execution_count": 14
        }
      ]
    },
    {
      "cell_type": "markdown",
      "source": [
        "Comparing the input tokens to the generated output, we can see the the model starts generating on token **18637**"
      ],
      "metadata": {
        "id": "F7Sele5YLVY1"
      }
    },
    {
      "cell_type": "code",
      "source": [
        "print(tokenizer.decode(generation_output[0]))"
      ],
      "metadata": {
        "colab": {
          "base_uri": "https://localhost:8080/"
        },
        "id": "MqxUKEv98nXn",
        "outputId": "44505f2e-1fa8-4c13-c285-0aaf4075f1a6"
      },
      "execution_count": 16,
      "outputs": [
        {
          "output_type": "stream",
          "name": "stdout",
          "text": [
            "Write a short message telling them that I learn about tokenization today. Explain what it is. <|assistant|> Hey there! I just learned about tokenization today. It's a fascinating process used\n"
          ]
        }
      ]
    },
    {
      "cell_type": "code",
      "source": [
        "for id in input_ids[0]:\n",
        "  print('Word:', tokenizer.decode(id), '\\tToken:', id.item())"
      ],
      "metadata": {
        "colab": {
          "base_uri": "https://localhost:8080/"
        },
        "id": "sQL2eHDkAqcO",
        "outputId": "aa112215-2364-4dce-c898-f7b549eefc31"
      },
      "execution_count": 36,
      "outputs": [
        {
          "output_type": "stream",
          "name": "stdout",
          "text": [
            "Word: Write \tToken: 14350\n",
            "Word: a \tToken: 263\n",
            "Word: short \tToken: 3273\n",
            "Word: message \tToken: 2643\n",
            "Word: telling \tToken: 14509\n",
            "Word: them \tToken: 963\n",
            "Word: that \tToken: 393\n",
            "Word: I \tToken: 306\n",
            "Word: learn \tToken: 5110\n",
            "Word: about \tToken: 1048\n",
            "Word: token \tToken: 5993\n",
            "Word: ization \tToken: 2133\n",
            "Word: today \tToken: 9826\n",
            "Word: . \tToken: 29889\n",
            "Word: Exp \tToken: 12027\n",
            "Word: lain \tToken: 7420\n",
            "Word: what \tToken: 825\n",
            "Word: it \tToken: 372\n",
            "Word: is \tToken: 338\n",
            "Word: . \tToken: 29889\n",
            "Word:  \tToken: 29871\n",
            "Word: <|assistant|> \tToken: 32001\n"
          ]
        }
      ]
    },
    {
      "cell_type": "markdown",
      "source": [
        "From the output we can analyse each numerical representation that is assigned to each token e.g. **Write - 14350**"
      ],
      "metadata": {
        "id": "rtquD6bcMM1q"
      }
    },
    {
      "cell_type": "markdown",
      "source": [
        "## Types of Tokenization\n",
        "There are different ways in which text can be tokenized:\n",
        "1. Word tokens: Splitting text using the whitespace\n",
        "2. Subword tokens: Using full or partial words\n",
        "3. Character tokens: Using unique individual characters in the input\n",
        "4. Byte tokens: Using individual bytes to represent unicode characters\n",
        ""
      ],
      "metadata": {
        "id": "MIpJYe_7Cb16"
      }
    },
    {
      "cell_type": "code",
      "source": [],
      "metadata": {
        "id": "GCedr9V2Bw4N"
      },
      "execution_count": null,
      "outputs": []
    }
  ]
}